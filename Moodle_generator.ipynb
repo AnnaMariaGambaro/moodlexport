{
 "cells": [
  {
   "cell_type": "markdown",
   "metadata": {},
   "source": [
    "# Créer et exporter une catégorie au format Moodle XML"
   ]
  },
  {
   "cell_type": "markdown",
   "metadata": {},
   "source": [
    "Besoin de \n",
    "`pip install array-to-latex` et `pip install xmltodict`\n",
    "\n",
    "Si vous ne savez pas comment faire, décommentez la case suivante et exécutez le code (prend une bonne minute), ça devrait marcher"
   ]
  },
  {
   "cell_type": "code",
   "execution_count": null,
   "metadata": {},
   "outputs": [],
   "source": [
    "#import sys\n",
    "#!{sys.executable} -m pip install xmltodict\n",
    "#!{sys.executable} -m pip install array-to-latex"
   ]
  },
  {
   "cell_type": "code",
   "execution_count": 44,
   "metadata": {},
   "outputs": [],
   "source": [
    "# Permet a une cellule d'avoir plus d'un display en sortie\n",
    "from IPython.core.interactiveshell import InteractiveShell\n",
    "InteractiveShell.ast_node_interactivity = \"all\""
   ]
  },
  {
   "cell_type": "markdown",
   "metadata": {},
   "source": [
    "Technical functions:"
   ]
  },
  {
   "cell_type": "code",
   "execution_count": 45,
   "metadata": {},
   "outputs": [],
   "source": [
    "from xml.dom.minidom import parseString\n",
    "from xml.sax.saxutils import unescape\n",
    "import xmltodict\n",
    "import json\n",
    "import io"
   ]
  },
  {
   "cell_type": "code",
   "execution_count": 46,
   "metadata": {},
   "outputs": [],
   "source": [
    "# to deal with mess between Latex, python and xml special characters\n",
    "# \\u and \\x not supported but useless for inline latex?\n",
    "UNESCAPE_LATEX = { '\\x07':'\\\\a', '\\x0c':'\\\\f', '\\x0b':'\\\\v', '\\x08':'\\\\b', '\\n': '\\\\n', '\\r':'\\\\r', '\\t':'\\\\t' } "
   ]
  },
  {
   "cell_type": "code",
   "execution_count": 47,
   "metadata": {},
   "outputs": [],
   "source": [
    "def savestr(string, filename=\"new.txt\", raw=False):\n",
    "    if raw:\n",
    "        string = string.replace('\\t','') # no tabs\n",
    "        string = string.replace('\\n','') # no linebreak\n",
    "    else:\n",
    "        string = string.replace('\\t','  ') # double space instead of tabs\n",
    "    text_file = io.open(filename, \"w\", encoding='utf8') # essential for accents and other characters\n",
    "    text_file.write(string)\n",
    "    text_file.close()\n",
    "\n",
    "def latex_protect(string):\n",
    "    return unescape(string, UNESCAPE_LATEX)\n",
    "    \n",
    "def html(string):\n",
    "    if string is \"\":\n",
    "        return string\n",
    "    else:\n",
    "        return \"<![CDATA[<p>\\(\\)\" + latex_protect(string) + \"</p>]]>\"  # \\(\\) pour activer latex dans Moodle"
   ]
  },
  {
   "cell_type": "code",
   "execution_count": 48,
   "metadata": {},
   "outputs": [],
   "source": [
    "def set_oparg(name, default_value, **opargs): #optional argument manager\n",
    "    if name in opargs:\n",
    "        return opargs.get(name)\n",
    "    else:\n",
    "        return default_value"
   ]
  },
  {
   "cell_type": "markdown",
   "metadata": {},
   "source": [
    "### Création de Moodle XML"
   ]
  },
  {
   "cell_type": "markdown",
   "metadata": {},
   "source": [
    "Global constants"
   ]
  },
  {
   "cell_type": "code",
   "execution_count": 112,
   "metadata": {},
   "outputs": [],
   "source": [
    "# Dirty but needed : all the fields required to create a question\n",
    "# We also set their default value, and an alias when the fields has a weird/toolong name\n",
    "DICT_DEFAULT_QUESTION_MOODLE = { \n",
    "    # general stuff\n",
    "    '@type': {'default': \"essay\", \n",
    "              'alias': 'type'\n",
    "             }, # can be \"multichoice\" for MCQs\n",
    "    \"name\": {'default': \"Default question title\", \n",
    "             'attribute': {'@format': 'txt'}, \n",
    "             'alias': 'title'\n",
    "            },\n",
    "    \"questiontext\": {'default': \"Default question text\", \n",
    "                     'attribute': {'@format': 'html'}, \n",
    "                     'alias': 'text'\n",
    "                    },\n",
    "    \"generalfeedback\": {'default': \"\", 'attribute': {'@format': 'html'}},\n",
    "    \"defaultgrade\": {'default': 1.0, \n",
    "                     'alias': 'grade'\n",
    "                    },\n",
    "    \"penalty\": {'default': 0.0},\n",
    "    \"hidden\": {'default': 0},\n",
    "    \"idnumber\": {'default': \"\"},\n",
    "    # 'essay' specifics\n",
    "    \"responseformat\": {'default': \"editorfilepicker\"}, # by default allow to upload a file as answer. Set \"editor\" ottherwise\n",
    "    \"responserequired\": {'default': 0}, # 0 for no response required, 1 for yes\n",
    "    \"responsefieldlines\": {'default': 10},\n",
    "    \"attachments\": {'default': -1}, # number of attachments allowed. -1 is infinty\n",
    "    \"attachmentsrequired\": {'default': 0}, # 0 for no attachment required, 1 for yes\n",
    "    \"graderinfo\": {'default': \"\", # correction for the grader\n",
    "                   'attribute': {'@format': 'html'}, \n",
    "                   'alias': 'infocorrecteur'\n",
    "                  }, \n",
    "    \"responsetemplate\": {'default': \"\", 'attribute': {'@format': 'html'}},\n",
    "    # 'multichoice' specifics\n",
    "    \"single\" : {'default': \"true\"}, # Says if only a unique answer is possible\n",
    "    \"shuffleanswers\" : {'default': \"true\"}, # Constantly shuffles the possible choices\n",
    "    \"answernumbering\" : {'default': \"none\"}, # Other choices : 'abc', '123', 'iii', and certainly caps\n",
    "    \"correctfeedback\": {'default': \"Votre réponse est correcte.\", 'attribute': {'@format': 'html'}},\n",
    "    \"partiallycorrectfeedback\": {'default': \"Votre réponse est partiellement correcte.\", 'attribute': {'@format': 'html'}},\n",
    "    \"incorrectfeedback\": {'default': \"Votre réponse est incorrecte.\", 'attribute': {'@format': 'html'}},\n",
    "    \"shownumcorrect\" : {'default': \"\"}, # No idea\n",
    "    \"answer\" : {'default': \"\"} # We deal with this in the Answer class\n",
    "}\n",
    "\n",
    "# easy access to alias\n",
    "def alias(field):\n",
    "    if 'alias' in DICT_DEFAULT_QUESTION_MOODLE[field]:\n",
    "        return DICT_DEFAULT_QUESTION_MOODLE[field]['alias']\n",
    "    else:\n",
    "        return field"
   ]
  },
  {
   "cell_type": "markdown",
   "metadata": {},
   "source": [
    "Classes for Category, Question, Answer"
   ]
  },
  {
   "cell_type": "code",
   "execution_count": 50,
   "metadata": {},
   "outputs": [],
   "source": [
    "class Answer():\n",
    "    \"\"\" \n",
    "        Object collecting an answer to a multichoice Question\n",
    "    \"\"\"\n",
    "    def __init__(self, answer_text=\"This is a default answer\", grade=0):\n",
    "        # we manage the default value of grade\n",
    "        # grade can be either a int/float (percentage of the grade) or a bool (is the answer true or not)\n",
    "        if isinstance(grade, bool) or isinstance(grade, np.bool):\n",
    "            if grade:\n",
    "                grade = 100\n",
    "            else:\n",
    "                grade = 0\n",
    "        # otherwise it is a number we leave it as it is\n",
    "        self.dict = {\n",
    "            '@fraction': grade, # by default an answer is false, and gives no points\n",
    "            '@format': 'html',\n",
    "            'text': html(answer_text), # content of the answer\n",
    "            'feedback': {\n",
    "                '@format': 'html',\n",
    "                'text': \"\"\n",
    "            }\n",
    "        }\n",
    "    \n",
    "    def text(self, text):\n",
    "        self.dict['text'] = html(text)\n",
    "        \n",
    "    def feedback(self, text):\n",
    "        self.dict['feedback']['text'] = html(text)\n",
    "        \n",
    "    def relativegrade(self, answer_fraction):\n",
    "        self.dict['@fraction'] = answer_fraction # must be a number (int?) between 0 and 100, decribing how much it is worth\n",
    "    \n",
    "    def istrue(self): # Says that this answer is THE good one\n",
    "        self.relativegrade(100)\n",
    "        \n",
    "    def isfalse(self): # Says that this answer is THE good one\n",
    "        self.relativegrade(0)\n",
    "        \n",
    "    def addto(self, question): # includes the answer into a question\n",
    "        \"\"\"\"\"\"\n",
    "        if question.dict['@type'] is \"multichoice\":\n",
    "            if question.dict[\"answer\"] is \"\": # if it is the first question we add\n",
    "                question.dict[\"answer\"] = []\n",
    "            question.dict[\"answer\"].append(self.dict)\n",
    "        else:\n",
    "            print('Error : answers can only be added to multichoice questions')\n",
    "                     "
   ]
  },
  {
   "cell_type": "code",
   "execution_count": 107,
   "metadata": {},
   "outputs": [],
   "source": [
    "class Question():\n",
    "    \"\"\" \n",
    "        Object collecting the parameters of a question under the form of a dictionary.\n",
    "        Methods:\n",
    "        _set(field, value) : e.g. _set(\"questiontext\", \"What is $2+2$?\")\n",
    "    \"\"\"\n",
    "    def __init__(self, question_type=\"essay\"):\n",
    "        self.structure = DICT_DEFAULT_QUESTION_MOODLE # IMPORTANT\n",
    "        self.structure['@type']['default'] = question_type # \"essay\" by default\n",
    "        # The proper question in a dictionary ready to turn into xml\n",
    "        self.dict = {}\n",
    "        for field in self.structure:\n",
    "            self._set(field, self.structure[field]['default'])\n",
    "               \n",
    "    def _set(self, field, value=\"\"):\n",
    "        \"\"\" Assigns a value to a field of a Question \"\"\"\n",
    "        field_structure = self.structure[field]\n",
    "        if 'attribute' not in field_structure: # no attributes, just stupid value to assign \n",
    "            self.dict[field] = value\n",
    "        else: # we have attributes which means the field contains a <text> element\n",
    "            if 'html' in field_structure['attribute'].values(): # the value is a string to be turned...\n",
    "                value = html(value)                             # ... into a html string (tackles latex, <p>'s and stuff)\n",
    "            # now we just fill the field with a text element, and its attributes\n",
    "            self.dict[field] = {**field_structure['attribute'], **{\"text\": value}} # concatenation needs Python >= 3.5\n",
    "    \n",
    "    def multi_answer(self): # unlocks the multiple answer mode\n",
    "        self.dict[\"single\"] = \"false\" #TBA : check sum fractions is 100 or all 0 etc\n",
    "        \n",
    "    def addto(self, category):\n",
    "        category.append(self)\n",
    "\n",
    "# Here we define automatically methods to assign values to Question fields\n",
    "for key in DICT_DEFAULT_QUESTION_MOODLE.keys():\n",
    "    if key is not \"answer\": # Because could be misinterpreted with Question.dict[\"answer\"]\n",
    "        setattr(Question, alias(key), lambda self, value, key=key: self._set(key, value))"
   ]
  },
  {
   "cell_type": "code",
   "execution_count": 8,
   "metadata": {},
   "outputs": [],
   "source": [
    "class Category():\n",
    "    \"\"\" \n",
    "        Object collecting Questions under the form of a category, ready to export to Moodle.\n",
    "        Methods:\n",
    "        _set(name, description) : e.g. _set(\"my_category\", \"list of questions about ... \")\n",
    "        append(question) : adds a Question to the Category\n",
    "        save(file_name) : save the Category into Moodle-XML\n",
    "    \"\"\"\n",
    "    def __init__(self, name=\"Default category name\", description=\"\"):\n",
    "        self.dict = { \"quiz\": { \"question\": [{}] } }\n",
    "        self.questions = self.dict[\"quiz\"][\"question\"]\n",
    "        self._set(name, description)\n",
    "    \n",
    "    def _set(self, name=\"Default category name\", description=\"\"):\n",
    "        qcat = {\n",
    "            \"@type\": \"category\",\n",
    "            \"category\": {\"text\": \"$module$/top/\" + name},\n",
    "            \"info\": {\"@format\": \"html\", \"text\": html(description)}\n",
    "            }\n",
    "        self.questions[0] = qcat\n",
    "        \n",
    "    def name(self, string=\"Default category name\"):\n",
    "        self.questions[0]['category']['text'] = \"$module$/top/\" + string\n",
    "        \n",
    "    def description(self, string=\"\"):\n",
    "        self.questions[0]['info']['text'] = html(string)\n",
    "        \n",
    "    def getname(self):\n",
    "        return self.questions[0]['category']['text'][len('$module$/top/'):] # removes the $module$/top/\n",
    "        \n",
    "    def append(self, question): # adds a Question to a Category\n",
    "        self.questions.append(question.dict)\n",
    "                \n",
    "    def save(self, file_name=None):\n",
    "        \"\"\" Save a category under the format Moodle XML \"\"\"\n",
    "        if file_name is None:\n",
    "            file_name = self.getname()\n",
    "        category_xml = xmltodict.unparse(self.dict, pretty=True)\n",
    "        savestr(unescape(category_xml), file_name + \".xml\")"
   ]
  },
  {
   "cell_type": "markdown",
   "metadata": {},
   "source": [
    "### Exemple : Générer une question dans une catégorie et les envoyer dans Moodle"
   ]
  },
  {
   "cell_type": "code",
   "execution_count": 94,
   "metadata": {},
   "outputs": [],
   "source": [
    "category = Category(\"ma super catégorie\")"
   ]
  },
  {
   "cell_type": "code",
   "execution_count": 95,
   "metadata": {},
   "outputs": [],
   "source": [
    "question = Question(\"essay\") # creates the question\n",
    "question.text(\"Calculer la dérivée de $f(x) = e^x + \\frac{1}{2} \\Vert x \\Vert^2$.\") # adds the question text\n",
    "question.title(\"Question de cours (dérivée)\") # optional\n",
    "question.graderinfo(\"$e^x + x$\") # optional\n",
    "question.addto(category)"
   ]
  },
  {
   "cell_type": "code",
   "execution_count": 96,
   "metadata": {},
   "outputs": [],
   "source": [
    "question = Question(\"essay\")\n",
    "question.text(\"Combien font $2+2$?\")\n",
    "question.title(\"Question d'arithmétique\")\n",
    "question.graderinfo(\"$\\sqrt{16}$\")\n",
    "question.addto(category)\n",
    "category.save() # maintenant on a deux questions dans la catégorie"
   ]
  },
  {
   "cell_type": "markdown",
   "metadata": {},
   "source": [
    "La dernière commande crée un fichier `ma_categorie.xml` qu'il suffit d'importer dans Moodle.\n",
    "Dans l'interface du cours, à droite, aller dans `banque de questions > importer ` puis \n",
    "- format de fichier : Format XML Moodle\n",
    "- Généraux : Cocher \"Obtenir la catégorie à partir du fichier\", \"Obtenir le contexte à partir du fichier\" si ce n'est déjà fait\n",
    "- Glisser le fichier\n",
    "- Cliquer \"importation\"\n",
    "- Si tout est bon (vert) valider encore (continuer).\n",
    "Ensuite les questions sont prêtes à l'utilisation dans tous les tests.\n"
   ]
  },
  {
   "cell_type": "markdown",
   "metadata": {},
   "source": [
    "### Exemple : Générer plein de questions aléatoirement et les envoyer dans Moodle\n",
    "\n",
    "Ici on montre ce qu'il est possible de faire, évidemment chacun doit adapter à ses besoins."
   ]
  },
  {
   "cell_type": "code",
   "execution_count": 12,
   "metadata": {},
   "outputs": [],
   "source": [
    "import numpy as np\n",
    "from numpy.random import randint\n",
    "import array_to_latex as a2l"
   ]
  },
  {
   "cell_type": "code",
   "execution_count": 13,
   "metadata": {},
   "outputs": [
    {
     "name": "stdout",
     "output_type": "stream",
     "text": [
      "\\begin{pmatrix}\n",
      "   3  & -2  & -2 \\\\\n",
      " -6  & -6  & -2 \\\\\n",
      " -1  & -1  & -1 \n",
      "\\end{pmatrix}\n"
     ]
    }
   ],
   "source": [
    "# On veut générer des matrices entières aléatoires et récupérer leur code latex\n",
    "def strlatex(A): \n",
    "    return a2l.to_ltx(A, frmt = '{:2.0f}', arraytype = 'pmatrix', print_out=False)\n",
    "A = randint(-6,6,(3,3))\n",
    "print(strlatex(A))"
   ]
  },
  {
   "cell_type": "code",
   "execution_count": 14,
   "metadata": {},
   "outputs": [],
   "source": [
    "# du coup on peut en mettre plein les questions\n",
    "category = Category(\"produit matriciel\")\n",
    "category.description(\"liste de questions sur le produit matriciel\")\n",
    "\n",
    "for k in range(5):\n",
    "    A = randint(-6,6,(3,3))\n",
    "    B = randint(-6,6,(3,2))\n",
    "    latex = \"Calculer le produit matriciel suivant : $$\" + strlatex(A) + strlatex(B) + \" $$\"\n",
    "    question = Question(\"essay\")\n",
    "    question.text(latex)\n",
    "    question.name(\"Produit matriciel\")\n",
    "    question.graderinfo(strlatex(A@B)) # python nous donne la réponse \n",
    "    question.addto(category)\n",
    "    \n",
    "category.save()"
   ]
  },
  {
   "cell_type": "markdown",
   "metadata": {},
   "source": [
    "## Exemples pour créer un QCM et l'envoyer dans Moodle"
   ]
  },
  {
   "cell_type": "code",
   "execution_count": 15,
   "metadata": {},
   "outputs": [],
   "source": [
    "category = Category(\"QCM matrices positives\")\n",
    "category.description(\"liste de questions QCM sur les matrices positives\")"
   ]
  },
  {
   "cell_type": "code",
   "execution_count": 16,
   "metadata": {},
   "outputs": [],
   "source": [
    "# une question théorique\n",
    "question = Question(\"multichoice\") # L'option ici définit le fait que la question est un QCM\n",
    "question.text(\"Est-ce que une matrice symétrique est inversible?\")\n",
    "question.name(\"Matrice symétrique inversible?\")\n",
    "\n",
    "# les réponses possibles\n",
    "Answer(\"Vrai\", False).addto(question) # Réponse \"vrai\", qui est fausse\n",
    "Answer(\"Faux\", True).addto(question) # Réponse \"faux\", qui est la bonne réponse\n",
    "question.addto(category) # on a fini donc ajoute la question à la catégorie\n",
    "\n",
    "category.save() # on exporte la question si on veut vérifier que ça marche"
   ]
  },
  {
   "cell_type": "code",
   "execution_count": 17,
   "metadata": {},
   "outputs": [],
   "source": [
    "# une question calculatoire aléatoire\n",
    "question = Question(\"multichoice\")\n",
    "\n",
    "latex = \"Est-ce que la matrice suivante est positive? \"\n",
    "A = randint(-3,3, (2,2))\n",
    "A = A@A.T # Forcément symétrique positive\n",
    "latex = latex + strlatex(A)\n",
    "\n",
    "question.text(latex)\n",
    "question.name(\"Matrice symétrique inversible?\")\n",
    "\n",
    "# les réponses possibles\n",
    "Answer(\"Vrai\", True).addto(question)\n",
    "Answer(\"Faux\", False).addto(question)\n",
    "question.addto(category) # on a fini donc ajoute la question à la catégorie, qui en a deux maintenant.\n",
    "\n",
    "category.save()"
   ]
  },
  {
   "cell_type": "code",
   "execution_count": 18,
   "metadata": {},
   "outputs": [],
   "source": [
    "# une question calculatoire mais avec des cas générés aléatoirement \n",
    "# donc on ne sait pas ce que ça va donner mais python gère pour nous\n",
    "question = Question(\"multichoice\")\n",
    "\n",
    "text = \"Est-ce que la matrice suivante est définie positive? \"\n",
    "A = randint(-3,3, (2,2))\n",
    "A = A + A.T # symétrique mais pas positive a priori\n",
    "text = text + strlatex(A)\n",
    "\n",
    "def is_pos_def(A): # check si la matrice est définie positive\n",
    "    M = np.matrix(A)\n",
    "    if np.all(np.linalg.eigvals(M+M.transpose()) > 0):\n",
    "        return True\n",
    "    else:\n",
    "        return False\n",
    "boolean = is_pos_def(A)\n",
    "\n",
    "question.text(text)\n",
    "question.name(\"Matrice symétrique DP?\")\n",
    "question.graderinfo(str(boolean))\n",
    "\n",
    "# les réponses possibles\n",
    "Answer(\"Vrai\", boolean).addto(question)\n",
    "Answer(\"Faux\", not boolean).addto(question)\n",
    "question.addto(category)\n",
    "\n",
    "category.save()"
   ]
  },
  {
   "cell_type": "code",
   "execution_count": 19,
   "metadata": {},
   "outputs": [],
   "source": [
    "# une question avec plus de deux réponses\n",
    "question = Question(\"multichoice\") \n",
    "question.text(\"Est-ce que vous aimez la pizza aux ananas\")\n",
    "question.name(\"Pizza question\")\n",
    "question.multi_answer() # il y aura plusierus réponses possibles\n",
    "\n",
    "# les réponses possibles\n",
    "Answer(\"Oui\", False).addto(question)\n",
    "Answer(\"Bof\", 20).addto(question)\n",
    "Answer(\"Dégueu\", 80).addto(question) # la somme des pourcentages doit faire 100, ici il faut cocher deux réponses pour gagner\n",
    "question.addto(category)\n",
    "\n",
    "category.save()"
   ]
  },
  {
   "cell_type": "code",
   "execution_count": null,
   "metadata": {},
   "outputs": [],
   "source": []
  },
  {
   "cell_type": "code",
   "execution_count": null,
   "metadata": {},
   "outputs": [],
   "source": []
  },
  {
   "cell_type": "markdown",
   "metadata": {},
   "source": [
    "Un peu de documentation:\n",
    "\n",
    "- https://docs.moodle.org/3x/fr/Format_XML_Moodle\n",
    "- https://docs.moodle.org/3x/fr/Questions\n",
    "- https://docs.moodle.org/31/en/Embedded_files_repository\n",
    "- AMC to Moodle : https://github.com/nennigb/amc2moodle\n",
    "- GIFT to Moodle : https://www.lmspulse.com/2020/gift-format-moodle-quiz-scripting/\n",
    "- Dict to XML : https://stackoverflow.com/questions/36021526/converting-an-array-dict-to-xml-in-python\n",
    "    - bon ca marche pas terrible relou avec attribute et plein de trucs automatiques\n",
    "- Dict to XML : https://github.com/martinblech/xmltodict\n",
    "    - meilleur controle sur tout\n",
    "    - par contre l'output est un string avec des tabs? Ok facile a resoudre\n",
    "    - ne gère pas le CDATA : besoin de https://github.com/martinblech/xmltodict/issues/57 ? Yes\n",
    "- QCM donne du `<shownumcorrect/>` càd un élément autofermé. Nous on génère un élément vide qui est sensé faire la même chose `<shownumcorrect></shownumcorrect>` cf https://stackoverflow.com/questions/7231902/self-closing-tags-in-xml-files"
   ]
  },
  {
   "cell_type": "code",
   "execution_count": null,
   "metadata": {},
   "outputs": [],
   "source": []
  }
 ],
 "metadata": {
  "kernelspec": {
   "display_name": "Python 3",
   "language": "python",
   "name": "python3"
  },
  "language_info": {
   "codemirror_mode": {
    "name": "ipython",
    "version": 3
   },
   "file_extension": ".py",
   "mimetype": "text/x-python",
   "name": "python",
   "nbconvert_exporter": "python",
   "pygments_lexer": "ipython3",
   "version": "3.7.6"
  }
 },
 "nbformat": 4,
 "nbformat_minor": 4
}
