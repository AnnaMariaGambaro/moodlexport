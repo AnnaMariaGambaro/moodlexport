{
 "cells": [
  {
   "cell_type": "markdown",
   "metadata": {},
   "source": [
    "# Créer et exporter une catégorie au format Moodle XML"
   ]
  },
  {
   "cell_type": "markdown",
   "metadata": {},
   "source": [
    "Besoin de \n",
    "`pip install array-to-latex` et `pip install xmltodict`\n",
    "\n",
    "Si vous ne savez pas comment faire, décommentez la case suivante et exécutez le code (prend une bonne minute), ça devrait marcher"
   ]
  },
  {
   "cell_type": "code",
   "execution_count": 124,
   "metadata": {},
   "outputs": [],
   "source": [
    "#import sys\n",
    "#!{sys.executable} -m pip install xmltodict\n",
    "#!{sys.executable} -m pip install array-to-latex"
   ]
  },
  {
   "cell_type": "code",
   "execution_count": 3,
   "metadata": {},
   "outputs": [],
   "source": [
    "# Permet a une cellule d'avoir plus d'un display en sortie\n",
    "from IPython.core.interactiveshell import InteractiveShell\n",
    "InteractiveShell.ast_node_interactivity = \"all\""
   ]
  },
  {
   "cell_type": "markdown",
   "metadata": {},
   "source": [
    "Technical functions:"
   ]
  },
  {
   "cell_type": "code",
   "execution_count": 6,
   "metadata": {},
   "outputs": [],
   "source": [
    "from xml.dom.minidom import parseString\n",
    "from xml.sax.saxutils import unescape\n",
    "import xmltodict\n",
    "import json\n",
    "import io"
   ]
  },
  {
   "cell_type": "code",
   "execution_count": 57,
   "metadata": {},
   "outputs": [],
   "source": [
    "def savestr(string, filename=\"new.txt\", raw=False):\n",
    "    if raw:\n",
    "        string = string.replace('\\t','') # no tabs\n",
    "        string = string.replace('\\n','') # no linebreak\n",
    "    else:\n",
    "        string = string.replace('\\t','  ') # double space instead of tabs\n",
    "    text_file = io.open(filename, \"w\", encoding='utf8') # essential for accents and other characters\n",
    "    text_file.write(string)\n",
    "    text_file.close()\n",
    "    \n",
    "def html(string):\n",
    "    if string is \"\":\n",
    "        return string\n",
    "    else:\n",
    "        return \"<![CDATA[<p>\\(\\)\" + string + \"</p>]]>\"  # \\(\\) pour activer latex dans Moodle"
   ]
  },
  {
   "cell_type": "code",
   "execution_count": 8,
   "metadata": {},
   "outputs": [],
   "source": [
    "def set_oparg(name, default_value, **opargs): #optional argument manager\n",
    "    if name in opargs:\n",
    "        return opargs.get(name)\n",
    "    else:\n",
    "        return default_value"
   ]
  },
  {
   "cell_type": "markdown",
   "metadata": {},
   "source": [
    "### Création de Moodle XML"
   ]
  },
  {
   "cell_type": "code",
   "execution_count": 84,
   "metadata": {},
   "outputs": [],
   "source": [
    "class Question():\n",
    "    \"\"\" \n",
    "        Object collecting the parameters of a question under the form of a dictionary.\n",
    "        Methods:\n",
    "        _set(field, value) : e.g. _set(\"questiontext\", \"What is $2+2$?\")\n",
    "    \"\"\"\n",
    "    def __init__(self, value=\"Default question\"): # optional value for questiontext\n",
    "        # DIRTY part where we gather all we need about the question\n",
    "        self.structure = { \n",
    "            '@type': {'default': 'essay', 'depth': 0},\n",
    "            \"name\": {'default': \"Default question title\", 'depth': 1},\n",
    "            \"questiontext\": {'default': value, 'depth': 1, 'html': True},\n",
    "            \"generalfeedback\": {'default': \"\", 'depth': 1, 'html': True},\n",
    "            \"defaultgrade\": {'default': 1.0, 'depth': 0},\n",
    "            \"penalty\": {'default': 0.0, 'depth': 0},\n",
    "            \"hidden\": {'default': 0, 'depth': 0},\n",
    "            \"idnumber\": {'default': \"\", 'depth': 0},\n",
    "            \"responseformat\": {'default': \"editor\", 'depth': 0},\n",
    "            \"responserequired\": {'default': 1, 'depth': 0},\n",
    "            \"responsefieldlines\": {'default': 10, 'depth': 0},\n",
    "            \"attachments\": {'default': 0, 'depth': 0},\n",
    "            \"attachmentsrequired\": {'default': 0, 'depth': 0},\n",
    "            \"graderinfo\": {'default': \"\", 'depth': 1, 'html': True},\n",
    "            \"responsetemplate\": {'default': \"\", 'depth': 0, 'html': True},\n",
    "        }\n",
    "        # The proper question in a dictionary ready to turn into xml\n",
    "        self.dict = {}\n",
    "        for field in self.structure:\n",
    "            self._set(field, self.structure[field]['default'])\n",
    "               \n",
    "    def _set(self, field, value=\"\"):\n",
    "        \"\"\" Assigns a value to a field of a Question \"\"\"\n",
    "        if self.structure[field]['depth'] == 0: \n",
    "            self.dict[field] = value\n",
    "        elif self.structure[field]['depth'] == 1:\n",
    "            if ('html' in self.structure[field]) and self.structure[field]['html']:\n",
    "                self.dict[field] = {\"@format\": \"html\", \"text\": html(value)}\n",
    "            else: # no html\n",
    "                self.dict[field] = {\"text\": value}"
   ]
  },
  {
   "cell_type": "code",
   "execution_count": 104,
   "metadata": {},
   "outputs": [],
   "source": [
    "class Category():\n",
    "    \"\"\" \n",
    "        Object collecting Questions under the form of a category, ready to export to Moodle.\n",
    "        Methods:\n",
    "        _set(name, description) : e.g. _set(\"my_category\", \"list of questions about ... \")\n",
    "        append(question) : adds a Question to the Category\n",
    "        save(file_name) : save the Category into Moodle-XML\n",
    "    \"\"\"\n",
    "    def __init__(self, name=\"Default category name\", description=\"\"):\n",
    "        self.dict = { \"quiz\": { \"question\": [{}] } }\n",
    "        self.questions = self.dict[\"quiz\"][\"question\"]\n",
    "        self._set(name, description)\n",
    "    \n",
    "    def _set(self, name=\"Default category name\", description=\"\"):\n",
    "        qcat = {\n",
    "            \"@type\": \"category\",\n",
    "            \"category\": {\"text\": \"$module$/top/\" + name},\n",
    "            \"info\": {\"@format\": \"html\", \"text\": html(description)}\n",
    "            }\n",
    "        self.questions[0] = qcat\n",
    "        \n",
    "    def append(self, question): # adds a Question to a Category\n",
    "        self.questions.append(question.dict)\n",
    "        \n",
    "    def save(self, file_name=\"default_name\"):\n",
    "        \"\"\" Save a category under the format Moodle XML \"\"\"\n",
    "        category_xml = xmltodict.unparse(self.dict, pretty=True)\n",
    "        savestr(unescape(category_xml), file_name + \".xml\")"
   ]
  },
  {
   "cell_type": "markdown",
   "metadata": {},
   "source": [
    "### Exemple : Générer une question dans une catégorie et les envoyer dans Moodle"
   ]
  },
  {
   "cell_type": "code",
   "execution_count": 111,
   "metadata": {},
   "outputs": [],
   "source": [
    "category_name = \"ma super catégorie\"\n",
    "category = Category(category_name)"
   ]
  },
  {
   "cell_type": "code",
   "execution_count": 127,
   "metadata": {},
   "outputs": [],
   "source": [
    "questiontext = \" Calculer la dérivée de $f(x) = e^x + \\frac{1}{2} \\Vert x \\Vert^2$.\"\n",
    "title = \"Question de cours (dérivée)\" # optional\n",
    "correction = \"$e^x + x$\" # optional\n",
    "\n",
    "question = Question(questiontext) # creates the question\n",
    "question._set(\"name\", title) # adds some optional information\n",
    "question._set(\"graderinfo\", correction)\n",
    "category.append(question) # ajoute la question à la catégorie\n",
    "\n",
    "category.save(\"ma_categorie\") # crée un fichier déguelasse mais prêt à l'export dans Moodle"
   ]
  },
  {
   "cell_type": "code",
   "execution_count": 128,
   "metadata": {},
   "outputs": [],
   "source": [
    "# une deuxième question pour la route ?\n",
    "question = Question()\n",
    "question._set(\"questiontext\", \"Combien font $2+2$?\")\n",
    "question._set(\"name\", \"Question d'arithmétique\")\n",
    "question._set(\"graderinfo\", \"Réponse : $\\sqrt{16}$\")\n",
    "\n",
    "category.append(question)\n",
    "category.save(\"ma_categorie\") # maintenant on a deux questions dans la catégorie"
   ]
  },
  {
   "cell_type": "markdown",
   "metadata": {},
   "source": [
    "La dernière commande crée un fichier `ma_categorie.xml` qu'il suffit d'importer dans Moodle.\n",
    "Dans l'interface du cours, à droite, aller dans `banque de questions > importer ` puis \n",
    "- format de fichier : Format XML Moodle\n",
    "- Généraux : Cocher \"Obtenir la catégorie à partir du fichier\", \"Obtenir le contexte à partir du fichier\" si ce n'est déjà fait\n",
    "- Glisser le fichier\n",
    "- Cliquer \"importation\"\n",
    "- Si tout est bon (vert) valider encore (continuer).\n",
    "Ensuite les questions sont prêtes à l'utilisation dans tous les tests.\n"
   ]
  },
  {
   "cell_type": "markdown",
   "metadata": {},
   "source": [
    "### Exemple : Générer plein de questions aléatoirement et les envoyer dans Moodle\n",
    "\n",
    "Ici on montre ce qu'il est possible de faire, évidemment chacun doit adapter à ses besoins."
   ]
  },
  {
   "cell_type": "code",
   "execution_count": 116,
   "metadata": {},
   "outputs": [],
   "source": [
    "import numpy as np\n",
    "from numpy.random import randint\n",
    "import array_to_latex as a2l"
   ]
  },
  {
   "cell_type": "code",
   "execution_count": 117,
   "metadata": {},
   "outputs": [
    {
     "name": "stdout",
     "output_type": "stream",
     "text": [
      "\\begin{pmatrix}\n",
      " -1  & -1  & -1 \\\\\n",
      " -6  &   3  &   4 \\\\\n",
      "   2  &   3  & -2 \n",
      "\\end{pmatrix}\n"
     ]
    }
   ],
   "source": [
    "# On veut générer des matrices entières aléatoires et récupérer leur code latex\n",
    "def strlatex(A): \n",
    "    return a2l.to_ltx(A, frmt = '{:2.0f}', arraytype = 'pmatrix', print_out=False)\n",
    "A = randint(-6,6,(3,3))\n",
    "print(strlatex(A))"
   ]
  },
  {
   "cell_type": "code",
   "execution_count": 126,
   "metadata": {},
   "outputs": [],
   "source": [
    "# du coup on peut en mettre plein les questions\n",
    "category = Category(name=\"produit matriciel\", \n",
    "                    description=\"liste de questions sur le produit matriciel\")\n",
    "for k in range(5):\n",
    "    A = randint(-6,6,(3,3))\n",
    "    B  = randint(-6,6,(3,2))\n",
    "    latex = \"Calculer le produit matriciel suivant : $$\" + strlatex(A) + strlatex(B) + \" $$\"\n",
    "    question = Question(latex)\n",
    "    question._set(\"name\", \"Produit matriciel\")\n",
    "    question._set(\"graderinfo\", strlatex(A@B)) # python nous donne la réponse \n",
    "    category.append(question)\n",
    "    \n",
    "category.save(\"ma_categorie\")"
   ]
  },
  {
   "cell_type": "code",
   "execution_count": null,
   "metadata": {},
   "outputs": [],
   "source": []
  },
  {
   "cell_type": "markdown",
   "metadata": {},
   "source": [
    "Un peu de documentation:\n",
    "\n",
    "- https://docs.moodle.org/3x/fr/Format_XML_Moodle\n",
    "- https://docs.moodle.org/3x/fr/Questions\n",
    "- https://docs.moodle.org/31/en/Embedded_files_repository\n",
    "- AMC to Moodle : https://github.com/nennigb/amc2moodle\n",
    "- GIFT to Moodle : https://www.lmspulse.com/2020/gift-format-moodle-quiz-scripting/\n",
    "- Dict to XML : https://stackoverflow.com/questions/36021526/converting-an-array-dict-to-xml-in-python\n",
    "    - bon ca marche pas terrible relou avec attribute et plein de trucs automatiques\n",
    "- Dict to XML : https://github.com/martinblech/xmltodict\n",
    "    - meilleur controle sur tout\n",
    "    - par contre l'output est un string avec des tabs? Ok facile a resoudre\n",
    "    - ne gère pas le CDATA : besoin de https://github.com/martinblech/xmltodict/issues/57 ? Yes"
   ]
  },
  {
   "cell_type": "code",
   "execution_count": null,
   "metadata": {},
   "outputs": [],
   "source": []
  }
 ],
 "metadata": {
  "kernelspec": {
   "display_name": "Python 3",
   "language": "python",
   "name": "python3"
  },
  "language_info": {
   "codemirror_mode": {
    "name": "ipython",
    "version": 3
   },
   "file_extension": ".py",
   "mimetype": "text/x-python",
   "name": "python",
   "nbconvert_exporter": "python",
   "pygments_lexer": "ipython3",
   "version": "3.7.6"
  }
 },
 "nbformat": 4,
 "nbformat_minor": 4
}
