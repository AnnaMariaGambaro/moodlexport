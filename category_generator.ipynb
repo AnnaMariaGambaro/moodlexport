{
 "cells": [
  {
   "cell_type": "markdown",
   "metadata": {},
   "source": [
    "# Créer et exporter une catégorie au format Moodle XML"
   ]
  },
  {
   "cell_type": "markdown",
   "metadata": {},
   "source": [
    "Besoin de \n",
    "`pip install array-to-latex` et `pip install xmltodict`"
   ]
  },
  {
   "cell_type": "code",
   "execution_count": 3,
   "metadata": {},
   "outputs": [],
   "source": [
    "# Permet a une cellule d'avoir plus d'un display en sortie\n",
    "from IPython.core.interactiveshell import InteractiveShell\n",
    "InteractiveShell.ast_node_interactivity = \"all\""
   ]
  },
  {
   "cell_type": "markdown",
   "metadata": {},
   "source": [
    "Technical functions:"
   ]
  },
  {
   "cell_type": "code",
   "execution_count": 6,
   "metadata": {},
   "outputs": [],
   "source": [
    "from xml.dom.minidom import parseString\n",
    "from xml.sax.saxutils import unescape\n",
    "import xmltodict\n",
    "import json\n",
    "import io"
   ]
  },
  {
   "cell_type": "code",
   "execution_count": 7,
   "metadata": {},
   "outputs": [],
   "source": [
    "def savestr(string, filename=\"new.txt\", raw=False):\n",
    "    if raw:\n",
    "        string = string.replace('\\t','') # no tabs\n",
    "        string = string.replace('\\n','') # no linebreak\n",
    "    else:\n",
    "        string = string.replace('\\t','  ') # double space instead of tabs\n",
    "    text_file = io.open(filename, \"w\", encoding='utf8') # essential for accents and other characters\n",
    "    text_file.write(string)\n",
    "    text_file.close()\n",
    "    \n",
    "def paragraph(string): \n",
    "    if string is \"\":\n",
    "        return string\n",
    "    else:\n",
    "        return \"<![CDATA[<p>\\(\\)\" + string + \"</p>]]>\"  # \\(\\) pour activer latex dans Moodle"
   ]
  },
  {
   "cell_type": "code",
   "execution_count": 8,
   "metadata": {},
   "outputs": [],
   "source": [
    "def set_oparg(name, default_value, **opargs):\n",
    "    if name in opargs:\n",
    "        return opargs.get(name)\n",
    "    else:\n",
    "        return default_value"
   ]
  },
  {
   "cell_type": "markdown",
   "metadata": {},
   "source": [
    "### Création de Moodle XML"
   ]
  },
  {
   "cell_type": "code",
   "execution_count": 9,
   "metadata": {},
   "outputs": [],
   "source": [
    "def create_category(name=\"stupid category name\", description=\"\"):\n",
    "    \"\"\" Creates a Moodle category. So far only for the Test.\n",
    "        name, str : name of the category\n",
    "        description, str : description of the category\n",
    "    \"\"\"\n",
    "    category = {\n",
    "        \"quiz\": {\n",
    "            \"question\": [\n",
    "            {\n",
    "            \"@type\": \"category\",\n",
    "            \"category\": {\"text\": \"$module$/top/\" + name},\n",
    "            \"info\": {\"@format\": \"html\", \"text\": paragraph(description)}\n",
    "            }\n",
    "            ]\n",
    "        }\n",
    "    }\n",
    "    return category"
   ]
  },
  {
   "cell_type": "code",
   "execution_count": 10,
   "metadata": {},
   "outputs": [],
   "source": [
    "def save_category(category, file_name):\n",
    "    \"\"\" Save a category under the format Moodle XML \"\"\"\n",
    "    category_xml = xmltodict.unparse(category, pretty=True)\n",
    "    savestr(unescape(category_xml), file_name + \".xml\")"
   ]
  },
  {
   "cell_type": "code",
   "execution_count": 11,
   "metadata": {},
   "outputs": [],
   "source": [
    "def create_question(content=\"Stupid question\", name=\"\", **opargs):\n",
    "    \"\"\" Creates a Moodle question. There is a lot of possible options, not all suported yet.\n",
    "        name, str : Name of the question\n",
    "        content, str : Content of the question. Can include Latex (MathJax latex).\n",
    "        Optional arguments : \n",
    "        grade, float : grade for the question. Default: 1    \n",
    "        graderinfo, string : Information for the person grading (= the answer). Default: \"\"\n",
    "    \"\"\"\n",
    "    grade = set_oparg('grade', 1.0, **opargs)\n",
    "    graderinfo = set_oparg('graderinfo', \"\", **opargs)\n",
    "    question = {\n",
    "        \"@type\": \"essay\", \n",
    "        \"name\": {\"text\": name},\n",
    "        \"questiontext\": {\n",
    "            \"@format\": \"html\", \n",
    "            \"text\": paragraph(content)\n",
    "        },\n",
    "        \"generalfeedback\": {\"@format\": \"html\", \"text\": \"\"},\n",
    "        \"defaultgrade\": grade,\n",
    "        \"penalty\": \"0.0000000\",\n",
    "        \"hidden\": \"0\",\n",
    "        \"idnumber\": \"\",\n",
    "        \"responseformat\": \"editor\",\n",
    "        \"responserequired\": \"1\",\n",
    "        \"responsefieldlines\": 5,\n",
    "        \"attachments\": \"0\",\n",
    "        \"attachmentsrequired\": \"0\",\n",
    "        \"graderinfo\": {\"@format\": \"html\",\"text\": paragraph(graderinfo)},\n",
    "        \"responsetemplate\": {\"@format\": \"html\",\"text\": \"\"}\n",
    "    }\n",
    "    return question"
   ]
  },
  {
   "cell_type": "code",
   "execution_count": 12,
   "metadata": {},
   "outputs": [],
   "source": [
    "def append_question(category, question): # adds a question to a category\n",
    "    category['quiz']['question'].append(question)"
   ]
  },
  {
   "cell_type": "markdown",
   "metadata": {},
   "source": [
    "### Générer une question dans une catégorie et les envoyer dans Moodle"
   ]
  },
  {
   "cell_type": "code",
   "execution_count": 13,
   "metadata": {},
   "outputs": [],
   "source": [
    "category_name = \"ma super catégorie\"\n",
    "category_description = \"osef\"\n",
    "\n",
    "category = create_category(category_name, category_description)"
   ]
  },
  {
   "cell_type": "code",
   "execution_count": 14,
   "metadata": {},
   "outputs": [],
   "source": [
    "question_intitule = \" Calculer la dérivée de $f(x) = e^x + \\frac{1}{2} \\Vert x \\Vert^2$.\"\n",
    "question_name = \"Question de cours (dérivée)\"\n",
    "question_note = 3.0\n",
    "correction = \"$e^x + x$\"\n",
    "\n",
    "question = create_question(\n",
    "            content=question_intitule,\n",
    "            name=question_name,\n",
    "            grade=question_note,\n",
    "            graderinfo=correction)\n",
    "append_question(category, question) # ajoute la question à la catégorie"
   ]
  },
  {
   "cell_type": "code",
   "execution_count": 15,
   "metadata": {},
   "outputs": [],
   "source": [
    "# une deuxième pour la route\n",
    "question = create_question(\n",
    "            content=\"Combien font $2+2$?\",\n",
    "            name=\"arithmétique\",\n",
    "            grade=2.0,\n",
    "            graderinfo=\"Réponse : $\\sqrt{16}$\")\n",
    "append_question(category, question)"
   ]
  },
  {
   "cell_type": "code",
   "execution_count": 16,
   "metadata": {},
   "outputs": [],
   "source": [
    "save_category(category, \"ma_categorie\")"
   ]
  },
  {
   "cell_type": "markdown",
   "metadata": {},
   "source": [
    "La dernière commande crée un fichier `ma_categorie.xml` qu'il suffit d'importer dans Moodle.\n",
    "Dans l'interface du cours, à droite, aller dans `banque de questions > importer ` puis \n",
    "- format de fichier : Format XML Moodle\n",
    "- Généraux : Cocher \"Obtenir la catégorie à partir du fichier\", \"Obtenir le contexte à partir du fichier\" si ce n'est déjà fait\n",
    "- Glisser le fichier\n",
    "- Cliquer \"importation\"\n",
    "- Si tout est bon (vert) valider encore (continuer).\n",
    "Ensuite les questions sont prêtes à l'utilisation dans tous les tests.\n"
   ]
  },
  {
   "cell_type": "markdown",
   "metadata": {},
   "source": [
    "### Générer plein de questions aléatoirement et les envoyer dans Moodle"
   ]
  },
  {
   "cell_type": "code",
   "execution_count": 44,
   "metadata": {},
   "outputs": [],
   "source": [
    "import numpy as np\n",
    "from numpy.random import randint\n",
    "import array_to_latex as a2l\n",
    "def strlatex(A): return a2l.to_ltx(A, frmt = '{:2.0f}', arraytype = 'pmatrix', print_out=False)"
   ]
  },
  {
   "cell_type": "code",
   "execution_count": 27,
   "metadata": {},
   "outputs": [],
   "source": [
    "category = create_category(\"produit matriciel\", \"liste de questions sur le produit matriciel\")"
   ]
  },
  {
   "cell_type": "code",
   "execution_count": 45,
   "metadata": {},
   "outputs": [
    {
     "name": "stdout",
     "output_type": "stream",
     "text": [
      "\\begin{pmatrix}\n",
      " -3  & -1  & -1 \\\\\n",
      " -3  & -2  & -3 \\\\\n",
      "   0  & -1  & -1 \n",
      "\\end{pmatrix}\n"
     ]
    }
   ],
   "source": [
    "# on peut créer une matrice aléatoire et afficher son code latex comme un string\n",
    "A = randint(-3,3,(3,3))\n",
    "print(strlatex(A))"
   ]
  },
  {
   "cell_type": "code",
   "execution_count": 47,
   "metadata": {},
   "outputs": [],
   "source": [
    "# du coup on peut en mettre plein les questions\n",
    "for k in range(10):\n",
    "    A = randint(-3,3,(3,3))\n",
    "    B  = randint(-3,3,(3,2))\n",
    "    intitule = \"Calculer le produit matriciel suivant : $$\"+strlatex(A)+strlatex(B)+\" $$\"\n",
    "    question = create_question(\n",
    "                                content=intitule,\n",
    "                                name=\"Produit matriciel\",\n",
    "                                grade=3.0,\n",
    "                                graderinfo=strlatex(A@B)) # python nous donne la réponse \n",
    "    append_question(category, question)"
   ]
  },
  {
   "cell_type": "code",
   "execution_count": 48,
   "metadata": {},
   "outputs": [],
   "source": [
    "save_category(category, \"produit_matriciel\")"
   ]
  },
  {
   "cell_type": "markdown",
   "metadata": {},
   "source": []
  },
  {
   "cell_type": "code",
   "execution_count": null,
   "metadata": {},
   "outputs": [],
   "source": []
  },
  {
   "cell_type": "code",
   "execution_count": null,
   "metadata": {},
   "outputs": [],
   "source": []
  },
  {
   "cell_type": "markdown",
   "metadata": {},
   "source": [
    "Un peu de documentation:\n",
    "\n",
    "- https://docs.moodle.org/3x/fr/Format_XML_Moodle\n",
    "- https://docs.moodle.org/3x/fr/Questions\n",
    "- https://docs.moodle.org/31/en/Embedded_files_repository\n",
    "- AMC to Moodle : https://github.com/nennigb/amc2moodle\n",
    "- GIFT to Moodle : https://www.lmspulse.com/2020/gift-format-moodle-quiz-scripting/\n",
    "- Dict to XML : https://stackoverflow.com/questions/36021526/converting-an-array-dict-to-xml-in-python\n",
    "    - bon ca marche pas terrible relou avec attribute et plein de trucs automatiques\n",
    "- Dict to XML : https://github.com/martinblech/xmltodict\n",
    "    - meilleur controle sur tout\n",
    "    - par contre l'output est un string avec des tabs? Ok facile a resoudre\n",
    "    - ne gère pas le CDATA : besoin de https://github.com/martinblech/xmltodict/issues/57 ? Yes"
   ]
  },
  {
   "cell_type": "code",
   "execution_count": null,
   "metadata": {},
   "outputs": [],
   "source": []
  }
 ],
 "metadata": {
  "kernelspec": {
   "display_name": "Python 3",
   "language": "python",
   "name": "python3"
  },
  "language_info": {
   "codemirror_mode": {
    "name": "ipython",
    "version": 3
   },
   "file_extension": ".py",
   "mimetype": "text/x-python",
   "name": "python",
   "nbconvert_exporter": "python",
   "pygments_lexer": "ipython3",
   "version": "3.7.6"
  }
 },
 "nbformat": 4,
 "nbformat_minor": 4
}
