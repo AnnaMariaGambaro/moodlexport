{
 "cells": [
  {
   "cell_type": "markdown",
   "metadata": {},
   "source": [
    "# Many questions at once"
   ]
  },
  {
   "cell_type": "markdown",
   "metadata": {},
   "source": [
    "From Python:"
   ]
  },
  {
   "cell_type": "code",
   "execution_count": 1,
   "metadata": {},
   "outputs": [],
   "source": [
    "from moodlexport import Question, Category"
   ]
  },
  {
   "cell_type": "code",
   "execution_count": 2,
   "metadata": {},
   "outputs": [],
   "source": [
    "category = Category(\"My little catgory from python\")\n",
    "\n",
    "question = Question(\"essay\")\n",
    "question.text(\"What is the derivative of $f(x) = e^x + 0.5 \\Vert x \\Vert^2$?\")\n",
    "question.grade(1.5)\n",
    "question.addto(category)\n",
    "              \n",
    "question = Question(\"multichoice\")\n",
    "question.text(\"Is every symmetric matrix invertible?\")\n",
    "question.grade(2.0)\n",
    "question.answer(\"Yes\", False)\n",
    "question.answer(\"No\", True)\n",
    "question.addto(category)\n",
    "\n",
    "category.save()"
   ]
  },
  {
   "cell_type": "code",
   "execution_count": 3,
   "metadata": {},
   "outputs": [],
   "source": [
    "from moodlexport import latextomoodle"
   ]
  },
  {
   "cell_type": "code",
   "execution_count": 4,
   "metadata": {},
   "outputs": [],
   "source": [
    "latextomoodle('mycategory.tex')"
   ]
  },
  {
   "cell_type": "code",
   "execution_count": null,
   "metadata": {},
   "outputs": [],
   "source": []
  }
 ],
 "metadata": {
  "kernelspec": {
   "display_name": "Python 3",
   "language": "python",
   "name": "python3"
  },
  "language_info": {
   "codemirror_mode": {
    "name": "ipython",
    "version": 3
   },
   "file_extension": ".py",
   "mimetype": "text/x-python",
   "name": "python",
   "nbconvert_exporter": "python",
   "pygments_lexer": "ipython3",
   "version": "3.7.6"
  }
 },
 "nbformat": 4,
 "nbformat_minor": 4
}
