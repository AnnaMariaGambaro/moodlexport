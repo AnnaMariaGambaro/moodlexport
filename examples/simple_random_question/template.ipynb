{
 "cells": [
  {
   "cell_type": "markdown",
   "metadata": {},
   "source": [
    "We want to generate questions where we ask the student if a polynomial equation $aX^2 + bX +c = 0$ with integer coefficients has a solution or no."
   ]
  },
  {
   "cell_type": "code",
   "execution_count": 1,
   "metadata": {},
   "outputs": [],
   "source": [
    "from moodlexport import Category, Question\n",
    "from sympy.abc import x # allows to define polynomials in x\n",
    "from sympy import latex # conveniently returns latex strings\n",
    "\n",
    "coefficients = [-3, -2, -1, 1, 2, 3] # the coefficients we allow\n",
    "category = Category(\"Number of roots for a polynomial\") # Gather all the questions\n",
    "\n",
    "for a in coefficients: # we loop over the allowed coefficients\n",
    "    for b in coefficients:\n",
    "        for c in coefficients:\n",
    "            question = Question(\"multichoice\") # a new question\n",
    "            P = a*x**2 + b*x + c # our sympy polynomial\n",
    "            question.text(\"The equation $\"+latex(P)+\"=0$ has:\")\n",
    "            question.answer(\"at least a solution\", b**2 - 4*a*c > 0 )\n",
    "            question.answer(\"no real solution\", b**2 - 4*a*c <= 0 )\n",
    "            question.addto(category) # question goes into the category\n",
    "            \n",
    "category.savepdf() # save the category\n",
    "category.savexml() # export the category to Moodle"
   ]
  },
  {
   "cell_type": "code",
   "execution_count": null,
   "metadata": {},
   "outputs": [],
   "source": []
  }
 ],
 "metadata": {
  "kernelspec": {
   "display_name": "Python 3",
   "language": "python",
   "name": "python3"
  },
  "language_info": {
   "codemirror_mode": {
    "name": "ipython",
    "version": 3
   },
   "file_extension": ".py",
   "mimetype": "text/x-python",
   "name": "python",
   "nbconvert_exporter": "python",
   "pygments_lexer": "ipython3",
   "version": "3.7.6"
  }
 },
 "nbformat": 4,
 "nbformat_minor": 4
}
