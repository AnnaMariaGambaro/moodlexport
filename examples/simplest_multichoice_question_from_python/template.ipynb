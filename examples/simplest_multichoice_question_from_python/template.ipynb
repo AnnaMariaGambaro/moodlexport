{
 "cells": [
  {
   "cell_type": "markdown",
   "metadata": {},
   "source": [
    "The code below writes a question in Python, and exports it in both .xml and .pdf (along with .tex) formats."
   ]
  },
  {
   "cell_type": "code",
   "execution_count": 1,
   "metadata": {},
   "outputs": [],
   "source": [
    "from moodlexport import Question # imports moodlexport\n",
    "question = Question(\"multichoice\") # we want a multichoice question\n",
    "question.text(\"The product 6x8 is equal to ... :\") # the question\n",
    "question.answer(\"47\", False) # the possible answers\n",
    "question.answer(\"48\", True)\n",
    "question.answer(\"49\", False)\n",
    "question.savexml(\"Simple arithmetic\") # that is for Moodle\n",
    "question.savepdf(\"Simple arithmetic\") # for convenient storing"
   ]
  },
  {
   "cell_type": "code",
   "execution_count": null,
   "metadata": {},
   "outputs": [],
   "source": []
  }
 ],
 "metadata": {
  "kernelspec": {
   "display_name": "Python 3",
   "language": "python",
   "name": "python3"
  },
  "language_info": {
   "codemirror_mode": {
    "name": "ipython",
    "version": 3
   },
   "file_extension": ".py",
   "mimetype": "text/x-python",
   "name": "python",
   "nbconvert_exporter": "python",
   "pygments_lexer": "ipython3",
   "version": "3.7.6"
  }
 },
 "nbformat": 4,
 "nbformat_minor": 4
}
