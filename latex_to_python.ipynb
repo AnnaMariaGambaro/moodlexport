{
 "cells": [
  {
   "cell_type": "code",
   "execution_count": 1,
   "metadata": {},
   "outputs": [],
   "source": [
    "import moodle_generator\n",
    "from moodle_generator.python_to_moodle import *\n",
    "from importlib import reload"
   ]
  },
  {
   "cell_type": "code",
   "execution_count": 153,
   "metadata": {},
   "outputs": [
    {
     "data": {
      "text/plain": [
       "<module 'moodle_generator.python_to_moodle' from 'D:\\\\Git\\\\moodle_test_generator\\\\moodle_generator\\\\python_to_moodle.py'>"
      ]
     },
     "execution_count": 153,
     "metadata": {},
     "output_type": "execute_result"
    }
   ],
   "source": [
    "from moodle_generator.python_to_moodle import * # reload step 2\n",
    "reload(moodle_generator.python_to_moodle) # reload step 1\n",
    "from moodle_generator.python_to_moodle import * # reload step 2"
   ]
  },
  {
   "cell_type": "code",
   "execution_count": 2,
   "metadata": {},
   "outputs": [],
   "source": [
    "# Permet a une cellule d'avoir plus d'un display en sortie\n",
    "from IPython.core.interactiveshell import InteractiveShell\n",
    "InteractiveShell.ast_node_interactivity = \"all\""
   ]
  },
  {
   "cell_type": "code",
   "execution_count": 3,
   "metadata": {},
   "outputs": [],
   "source": [
    "from TexSoup import TexSoup, read\n",
    "from TexSoup.data import TexNode\n",
    "from TexSoup.utils import TokenWithPosition"
   ]
  },
  {
   "cell_type": "code",
   "execution_count": 204,
   "metadata": {},
   "outputs": [],
   "source": [
    "# Given a latex question, returns a python question\n",
    "def read_latex_question(latex_question):\n",
    "    if len(latex_question.args) == 1: # we got a optional argument for the type of question\n",
    "        question = Question(latex_question.args[0].value)\n",
    "    else:\n",
    "        question = Question()\n",
    "    text = \"\"\n",
    "    # we read all the contents and puts it in the structure\n",
    "    for content in list(latex_question.contents):\n",
    "        # we check the type of the content : either a parameter or the main text\n",
    "        if isinstance(content, TokenWithPosition): # main field\n",
    "            text = text + content.text\n",
    "        elif isinstance(content, TexNode): # optional parameter but careful because math is treated as TexNode...\n",
    "            field = content.name # a string giving us the name of the option\n",
    "            if isfield(field): # is it a field defined in DICT_DEFAULT_QUESTION_MOODLE ?\n",
    "                if field == 'answer': # cas un peu compliqué\n",
    "                    if len(content.args) == 1: # pas d'option donc faux par défaut\n",
    "                        Answer(content.args[0].value, False).addto(question)\n",
    "                    elif len(content.args) == 2: # optional value for grade percentage\n",
    "                        Answer(content.args[1].value, content.args[0].value).addto(question)\n",
    "                else: # general field, easy to manage\n",
    "                    value = content.string # a string containing the value of the said option\n",
    "                    getattr(question, field)(value)\n",
    "            else: # annoying, certainly valid latex, most RISKY part of the code\n",
    "                text = text + str(content)\n",
    "    question.text(cleanstr(text, raw=True))\n",
    "    return question"
   ]
  },
  {
   "cell_type": "code",
   "execution_count": 205,
   "metadata": {},
   "outputs": [],
   "source": [
    "def read_latex_category(category_latex):\n",
    "    category = Category()\n",
    "    # we read all the contents and puts it in the structure\n",
    "    for content in list(category_latex.contents):\n",
    "        if isinstance(content, TexNode): # There should be just stuff like that\n",
    "            field = str(content.name) # a string giving us the name of the option\n",
    "            if field == 'name': # not is for some dark reason. same content, but not identity\n",
    "                category.name(content.string)\n",
    "            elif field == 'description':\n",
    "                category.description(content.string)\n",
    "            elif field == 'question':\n",
    "                question = read_latex_question(content)\n",
    "                question.addto(category)\n",
    "    return category"
   ]
  },
  {
   "cell_type": "code",
   "execution_count": 206,
   "metadata": {},
   "outputs": [],
   "source": [
    "def latextopython(file_name):\n",
    "    # converts a latex file into a list of Category\n",
    "    with open(file_name, 'r', encoding='utf-8') as file:\n",
    "        latex = file.read()\n",
    "    soup = TexSoup(latex)\n",
    "    category_list = []\n",
    "    category_latex_list = list(soup.find_all('category'))\n",
    "    for category_latex in category_latex_list:\n",
    "        category_list.append(read_latex_category(category_latex))\n",
    "    return category_list    "
   ]
  },
  {
   "cell_type": "code",
   "execution_count": 207,
   "metadata": {},
   "outputs": [],
   "source": [
    "def latextomoodle(file_name):\n",
    "    # converts a latex file into an XML file ready to export into Moodle\n",
    "    category_list = latextopython(file_name)\n",
    "    for category in category_list:\n",
    "        category.save()"
   ]
  },
  {
   "cell_type": "code",
   "execution_count": 237,
   "metadata": {},
   "outputs": [],
   "source": [
    "latextomoodle('latex/liste.tex')"
   ]
  },
  {
   "cell_type": "code",
   "execution_count": 235,
   "metadata": {},
   "outputs": [],
   "source": [
    "with open('latex/liste.tex', 'r', encoding='utf-8') as file:\n",
    "    latex = file.read()\n",
    "soup = TexSoup(latex)"
   ]
  },
  {
   "cell_type": "code",
   "execution_count": 236,
   "metadata": {},
   "outputs": [
    {
     "data": {
      "text/plain": [
       "[]"
      ]
     },
     "execution_count": 236,
     "metadata": {},
     "output_type": "execute_result"
    },
    {
     "data": {
      "text/plain": [
       "[\\title{My Title},\n",
       " \\type{multichoice},\n",
       " '\\n\\nTexte de la question à choix multiple\\n',\n",
       " \\answer{Mauvaise réponse},\n",
       " \\answer[100]{Bonne réponse}]"
      ]
     },
     "execution_count": 236,
     "metadata": {},
     "output_type": "execute_result"
    },
    {
     "data": {
      "text/plain": [
       "\\title{My Title}"
      ]
     },
     "execution_count": 236,
     "metadata": {},
     "output_type": "execute_result"
    },
    {
     "data": {
      "text/plain": [
       "TexSoup.utils.TokenWithPosition"
      ]
     },
     "execution_count": 236,
     "metadata": {},
     "output_type": "execute_result"
    }
   ],
   "source": [
    "question_tuple = list(soup.find_all('question'))\n",
    "q = question_tuple[0]\n",
    "q.args\n",
    "cont = list(q.contents)\n",
    "cont\n",
    "cont[0]\n",
    "type(cont[2])"
   ]
  },
  {
   "cell_type": "code",
   "execution_count": 203,
   "metadata": {},
   "outputs": [
    {
     "data": {
      "text/plain": [
       "0"
      ]
     },
     "execution_count": 203,
     "metadata": {},
     "output_type": "execute_result"
    }
   ],
   "source": [
    "question_tuple = list(soup.find_all('question'))\n",
    "q = question_tuple[1]\n",
    "len(q.args)"
   ]
  },
  {
   "cell_type": "code",
   "execution_count": 167,
   "metadata": {},
   "outputs": [
    {
     "data": {
      "text/plain": [
       "\\answer{réponse sans option}"
      ]
     },
     "execution_count": 167,
     "metadata": {},
     "output_type": "execute_result"
    },
    {
     "data": {
      "text/plain": [
       "True"
      ]
     },
     "execution_count": 167,
     "metadata": {},
     "output_type": "execute_result"
    },
    {
     "data": {
      "text/plain": [
       "'answer'"
      ]
     },
     "execution_count": 167,
     "metadata": {},
     "output_type": "execute_result"
    }
   ],
   "source": [
    "question_tuple = list(soup.find_all('question'))\n",
    "latex_question = question_tuple[0] # une question\n",
    "content = list(latex_question.contents)[3]\n",
    "content\n",
    "isinstance(content, TexNode)\n",
    "content.name"
   ]
  },
  {
   "cell_type": "code",
   "execution_count": 160,
   "metadata": {},
   "outputs": [
    {
     "data": {
      "text/plain": [
       "'\\nDériver la fonction '"
      ]
     },
     "execution_count": 160,
     "metadata": {},
     "output_type": "execute_result"
    }
   ],
   "source": [
    "str(list(latex_question.contents)[2])"
   ]
  },
  {
   "cell_type": "code",
   "execution_count": 124,
   "metadata": {},
   "outputs": [
    {
     "name": "stdout",
     "output_type": "stream",
     "text": [
      "<![CDATA[<p>\\(\\)Dériver la fonction $f(x) = e^x + \\frac{1}{2}\\Vert x \\Vert^2$.Après un saut de ligne local, un peu de texte.</p>]]>\n"
     ]
    }
   ],
   "source": [
    "print(read_latex_question(latex_question).dict['questiontext']['text'])"
   ]
  },
  {
   "cell_type": "code",
   "execution_count": 163,
   "metadata": {},
   "outputs": [],
   "source": [
    "read_latex_question(latex_question).save()"
   ]
  },
  {
   "cell_type": "code",
   "execution_count": 45,
   "metadata": {},
   "outputs": [
    {
     "data": {
      "text/plain": [
       "{'quiz': {'question': [{'@type': 'category',\n",
       "    'category': {'text': '$module$/top/Default category name'},\n",
       "    'info': {'@format': 'html', 'text': ''}},\n",
       "   {'@type': 'essay',\n",
       "    'name': {'@format': 'txt', 'text': 'Default question title'},\n",
       "    'questiontext': {'@format': 'html',\n",
       "     'text': '<![CDATA[<p>\\\\(\\\\)Default question text</p>]]>'},\n",
       "    'generalfeedback': {'@format': 'html', 'text': ''},\n",
       "    'defaultgrade': 1.0,\n",
       "    'penalty': 0.0,\n",
       "    'hidden': 0,\n",
       "    'idnumber': '',\n",
       "    'responseformat': 'editorfilepicker',\n",
       "    'responserequired': 0,\n",
       "    'responsefieldlines': 10,\n",
       "    'attachments': -1,\n",
       "    'attachmentsrequired': 0,\n",
       "    'graderinfo': {'@format': 'html', 'text': ''},\n",
       "    'responsetemplate': {'@format': 'html', 'text': ''},\n",
       "    'single': 'true',\n",
       "    'shuffleanswers': 'true',\n",
       "    'answernumbering': 'none',\n",
       "    'correctfeedback': {'@format': 'html',\n",
       "     'text': '<![CDATA[<p>\\\\(\\\\)Votre réponse est correcte.</p>]]>'},\n",
       "    'partiallycorrectfeedback': {'@format': 'html',\n",
       "     'text': '<![CDATA[<p>\\\\(\\\\)Votre réponse est partiellement correcte.</p>]]>'},\n",
       "    'incorrectfeedback': {'@format': 'html',\n",
       "     'text': '<![CDATA[<p>\\\\(\\\\)Votre réponse est incorrecte.</p>]]>'},\n",
       "    'shownumcorrect': '',\n",
       "    'answer': ''}]}}"
      ]
     },
     "execution_count": 45,
     "metadata": {},
     "output_type": "execute_result"
    }
   ],
   "source": [
    "q=Question()\n",
    "q.addto(cat)\n",
    "cat.dict"
   ]
  },
  {
   "cell_type": "code",
   "execution_count": 143,
   "metadata": {},
   "outputs": [
    {
     "data": {
      "text/plain": [
       "<module 'moodle_generator.python_to_moodle' from 'D:\\\\Git\\\\moodle_test_generator\\\\moodle_generator\\\\python_to_moodle.py'>"
      ]
     },
     "execution_count": 143,
     "metadata": {},
     "output_type": "execute_result"
    }
   ],
   "source": [
    "from moodle_generator.python_to_moodle import * # reload step 2\n",
    "reload(moodle_generator.python_to_moodle) # reload step 1\n",
    "from moodle_generator.python_to_moodle import * # reload step 2"
   ]
  },
  {
   "cell_type": "code",
   "execution_count": 32,
   "metadata": {},
   "outputs": [
    {
     "data": {
      "text/plain": [
       "{'@type': 'essay',\n",
       " 'name': {'@format': 'txt', 'text': 'lala'},\n",
       " 'questiontext': {'@format': 'html',\n",
       "  'text': '<![CDATA[<p>\\\\(\\\\)nouvelle question 2</p>]]>'},\n",
       " 'generalfeedback': {'@format': 'html', 'text': ''},\n",
       " 'defaultgrade': 1.0,\n",
       " 'penalty': 0.0,\n",
       " 'hidden': 0,\n",
       " 'idnumber': '',\n",
       " 'responseformat': 'editorfilepicker',\n",
       " 'responserequired': 0,\n",
       " 'responsefieldlines': 10,\n",
       " 'attachments': -1,\n",
       " 'attachmentsrequired': 0,\n",
       " 'graderinfo': {'@format': 'html', 'text': ''},\n",
       " 'responsetemplate': {'@format': 'html', 'text': ''},\n",
       " 'single': 'true',\n",
       " 'shuffleanswers': 'true',\n",
       " 'answernumbering': 'none',\n",
       " 'correctfeedback': {'@format': 'html',\n",
       "  'text': '<![CDATA[<p>\\\\(\\\\)Votre réponse est correcte.</p>]]>'},\n",
       " 'partiallycorrectfeedback': {'@format': 'html',\n",
       "  'text': '<![CDATA[<p>\\\\(\\\\)Votre réponse est partiellement correcte.</p>]]>'},\n",
       " 'incorrectfeedback': {'@format': 'html',\n",
       "  'text': '<![CDATA[<p>\\\\(\\\\)Votre réponse est incorrecte.</p>]]>'},\n",
       " 'shownumcorrect': '',\n",
       " 'answer': ''}"
      ]
     },
     "execution_count": 32,
     "metadata": {},
     "output_type": "execute_result"
    }
   ],
   "source": [
    "q = Question()\n",
    "q.title('lala')\n",
    "getattr(q, 'text')('nouvelle question 2')\n",
    "q.dict"
   ]
  },
  {
   "cell_type": "code",
   "execution_count": null,
   "metadata": {},
   "outputs": [],
   "source": []
  },
  {
   "cell_type": "code",
   "execution_count": null,
   "metadata": {},
   "outputs": [],
   "source": []
  },
  {
   "cell_type": "code",
   "execution_count": 20,
   "metadata": {},
   "outputs": [
    {
     "data": {
      "text/plain": [
       "TexSoup.data.TexNode"
      ]
     },
     "execution_count": 20,
     "metadata": {},
     "output_type": "execute_result"
    },
    {
     "data": {
      "text/plain": [
       "TexSoup.data.TexNode"
      ]
     },
     "execution_count": 20,
     "metadata": {},
     "output_type": "execute_result"
    },
    {
     "data": {
      "text/plain": [
       "TexSoup.utils.TokenWithPosition"
      ]
     },
     "execution_count": 20,
     "metadata": {},
     "output_type": "execute_result"
    },
    {
     "data": {
      "text/plain": [
       "TexSoup.data.TexNode"
      ]
     },
     "execution_count": 20,
     "metadata": {},
     "output_type": "execute_result"
    }
   ],
   "source": [
    "for content in list(question.contents):\n",
    "    type(content)"
   ]
  },
  {
   "cell_type": "code",
   "execution_count": 31,
   "metadata": {},
   "outputs": [
    {
     "data": {
      "text/plain": [
       "TexSoup.data.TexNode"
      ]
     },
     "execution_count": 31,
     "metadata": {},
     "output_type": "execute_result"
    },
    {
     "data": {
      "text/plain": [
       "'My Title'"
      ]
     },
     "execution_count": 31,
     "metadata": {},
     "output_type": "execute_result"
    }
   ],
   "source": [
    "type(list(question.contents)[0])\n",
    "list(question.contents)[0].string"
   ]
  },
  {
   "cell_type": "code",
   "execution_count": 36,
   "metadata": {},
   "outputs": [
    {
     "data": {
      "text/plain": [
       "'title'"
      ]
     },
     "execution_count": 36,
     "metadata": {},
     "output_type": "execute_result"
    }
   ],
   "source": [
    "list(question.contents)[0].name"
   ]
  },
  {
   "cell_type": "code",
   "execution_count": null,
   "metadata": {},
   "outputs": [],
   "source": []
  },
  {
   "cell_type": "code",
   "execution_count": 28,
   "metadata": {},
   "outputs": [
    {
     "data": {
      "text/plain": [
       "'My Title'"
      ]
     },
     "execution_count": 28,
     "metadata": {},
     "output_type": "execute_result"
    }
   ],
   "source": [
    "argument = list(question.contents)[0]\n",
    "question.title.string"
   ]
  },
  {
   "cell_type": "code",
   "execution_count": null,
   "metadata": {},
   "outputs": [],
   "source": []
  },
  {
   "cell_type": "code",
   "execution_count": 12,
   "metadata": {},
   "outputs": [
    {
     "data": {
      "text/plain": [
       "['My Title', '2.5', '\\nContenu de la question\\n', 'La rÃ©ponse en fait .. ']"
      ]
     },
     "execution_count": 12,
     "metadata": {},
     "output_type": "execute_result"
    }
   ],
   "source": [
    "list(question.text)"
   ]
  },
  {
   "cell_type": "code",
   "execution_count": 291,
   "metadata": {},
   "outputs": [],
   "source": [
    "def getfield(question, field):\n",
    "    if getattr(question, field) is not None:\n",
    "        return getattr(question, field).args[0].value"
   ]
  },
  {
   "cell_type": "code",
   "execution_count": 316,
   "metadata": {},
   "outputs": [
    {
     "data": {
      "text/plain": [
       "'<![CDATA[<p>\\\\(\\\\)La rÃ©ponse en fait .. </p>]]>'"
      ]
     },
     "execution_count": 316,
     "metadata": {},
     "output_type": "execute_result"
    }
   ],
   "source": [
    "html(getfield(question, 'infograder'))"
   ]
  }
 ],
 "metadata": {
  "kernelspec": {
   "display_name": "Python 3",
   "language": "python",
   "name": "python3"
  },
  "language_info": {
   "codemirror_mode": {
    "name": "ipython",
    "version": 3
   },
   "file_extension": ".py",
   "mimetype": "text/x-python",
   "name": "python",
   "nbconvert_exporter": "python",
   "pygments_lexer": "ipython3",
   "version": "3.7.6"
  }
 },
 "nbformat": 4,
 "nbformat_minor": 4
}
